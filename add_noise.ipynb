{
 "cells": [
  {
   "cell_type": "code",
   "execution_count": 5,
   "id": "315762d0-fc38-44d0-a6ad-e34175035f3b",
   "metadata": {},
   "outputs": [],
   "source": [
    "import torch\n",
    "import numpy as np\n",
    "import pandas as pd"
   ]
  },
  {
   "cell_type": "code",
   "execution_count": 6,
   "id": "e3a9e282-fd62-4994-8cd2-091864f4f4f8",
   "metadata": {},
   "outputs": [
    {
     "data": {
      "text/plain": [
       "torch.Size([100, 1024, 3])"
      ]
     },
     "execution_count": 6,
     "metadata": {},
     "output_type": "execute_result"
    }
   ],
   "source": [
    "data = torch.load('sequence_0_fps1024_aligned.pt')\n",
    "data.shape"
   ]
  },
  {
   "cell_type": "code",
   "execution_count": 7,
   "id": "02b81e4d-4e47-489e-acca-d449a8536ddb",
   "metadata": {},
   "outputs": [],
   "source": [
    "torch.manual_seed(42)\n",
    "\n",
    "noise_1 = torch.randn(data.size()) * 0.1\n",
    "\n",
    "data_1 = data + noise_1"
   ]
  },
  {
   "cell_type": "code",
   "execution_count": 8,
   "id": "6f8e9c20-edaa-4eac-adb7-8978b3e68aa4",
   "metadata": {},
   "outputs": [],
   "source": [
    "torch.save(data_1, 'sequence_0_noise1_fps1024_aligned.pt')"
   ]
  },
  {
   "cell_type": "code",
   "execution_count": 4,
   "id": "761f4572-136b-4ea3-9f27-1efad605ca7e",
   "metadata": {},
   "outputs": [],
   "source": [
    "torch.manual_seed(42)\n",
    "\n",
    "noise_2 = torch.randn(data.size()) * 0.5\n",
    "\n",
    "data_2 = data + noise_2"
   ]
  },
  {
   "cell_type": "code",
   "execution_count": 5,
   "id": "aa7a15a6-3578-4ebb-9e00-82f9dfacb548",
   "metadata": {},
   "outputs": [],
   "source": [
    "torch.save(data_2, 'sequence_0_noise2_fps1024_aligned.pt')"
   ]
  },
  {
   "cell_type": "code",
   "execution_count": 6,
   "id": "46b16335-a13f-467f-af28-650fd1f8f2fe",
   "metadata": {},
   "outputs": [],
   "source": [
    "torch.manual_seed(42)\n",
    "\n",
    "noise_3 = torch.randn(data.size())\n",
    "\n",
    "data_3 = data + noise_3"
   ]
  },
  {
   "cell_type": "code",
   "execution_count": 7,
   "id": "55039522-c27c-4cca-b5b7-fdddc9c19633",
   "metadata": {},
   "outputs": [],
   "source": [
    "torch.save(data_3, 'sequence_0_noise3_fps1024_aligned.pt')"
   ]
  },
  {
   "cell_type": "code",
   "execution_count": 8,
   "id": "250cc360-d7de-42ba-ade8-b98f4581622e",
   "metadata": {},
   "outputs": [],
   "source": [
    "torch.manual_seed(42)\n",
    "\n",
    "noise_4 = torch.randn(data.size()) * 5\n",
    "\n",
    "data_4 = data + noise_4"
   ]
  },
  {
   "cell_type": "code",
   "execution_count": 9,
   "id": "46322e2d-d08b-4684-9317-493bd58d5acf",
   "metadata": {},
   "outputs": [],
   "source": [
    "torch.save(data_4, 'sequence_0_noise4_fps1024_aligned.pt')"
   ]
  },
  {
   "cell_type": "code",
   "execution_count": null,
   "id": "aa8db7f9-2dd7-4c69-ae99-cef6bf442ccc",
   "metadata": {},
   "outputs": [],
   "source": []
  }
 ],
 "metadata": {
  "kernelspec": {
   "display_name": "Python 3 (ipykernel)",
   "language": "python",
   "name": "python3"
  },
  "language_info": {
   "codemirror_mode": {
    "name": "ipython",
    "version": 3
   },
   "file_extension": ".py",
   "mimetype": "text/x-python",
   "name": "python",
   "nbconvert_exporter": "python",
   "pygments_lexer": "ipython3",
   "version": "3.9.21"
  }
 },
 "nbformat": 4,
 "nbformat_minor": 5
}
