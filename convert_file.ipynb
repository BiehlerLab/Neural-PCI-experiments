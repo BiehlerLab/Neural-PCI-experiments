{
 "cells": [
  {
   "cell_type": "code",
   "execution_count": 1,
   "id": "586674b6-dfc8-4dd5-8b61-6f02ac37b58e",
   "metadata": {},
   "outputs": [],
   "source": [
    "import pandas as pd\n",
    "import numpy as np\n",
    "import matplotlib.pyplot as plt\n",
    "import os\n",
    "import glob\n",
    "import torch\n",
    "import imageio.v2 as imageio\n",
    "from mpl_toolkits.mplot3d import Axes3D\n",
    "from tqdm import tqdm"
   ]
  },
  {
   "cell_type": "code",
   "execution_count": 2,
   "id": "ca5970a9-30bd-4ab5-98da-e950af71834f",
   "metadata": {},
   "outputs": [],
   "source": [
    "# longdress = torch.load('longdress.pt')\n",
    "# longdress.shape"
   ]
  },
  {
   "cell_type": "code",
   "execution_count": 3,
   "id": "820f7e8f-6f89-4fd5-b1ab-9b2429cd0c71",
   "metadata": {
    "scrolled": true
   },
   "outputs": [
    {
     "data": {
      "text/plain": [
       "array([[[82.19056525, 35.80445675, 86.30294037],\n",
       "        [81.93089517, 40.35317358, 86.30294037],\n",
       "        [75.61487154, 30.41025082, 86.30294037],\n",
       "        ...,\n",
       "        [71.5464972 , 25.33554583, 83.20294189],\n",
       "        [74.77588451, 27.54182973, 85.50987895],\n",
       "        [69.34274537, 27.23734572, 83.24505805]],\n",
       "\n",
       "       [[82.19056525, 35.80445675, 86.30294037],\n",
       "        [81.93089517, 40.35317358, 86.30294037],\n",
       "        [75.61487154, 30.41025082, 86.30294037],\n",
       "        ...,\n",
       "        [71.5464972 , 25.33554583, 83.20294189],\n",
       "        [74.77588451, 27.54182973, 85.50987895],\n",
       "        [69.34274537, 27.23734572, 83.24505805]],\n",
       "\n",
       "       [[82.19056525, 35.80445675, 86.30294037],\n",
       "        [81.93089517, 40.35317358, 86.30294037],\n",
       "        [75.61487154, 30.41025082, 86.30294037],\n",
       "        ...,\n",
       "        [71.5464972 , 25.33554583, 83.20294189],\n",
       "        [74.77588451, 27.54182973, 85.50987895],\n",
       "        [69.34274537, 27.23734572, 83.24505805]],\n",
       "\n",
       "       ...,\n",
       "\n",
       "       [[82.19056525, 35.80445675, 86.30294037],\n",
       "        [81.93089517, 40.35317358, 86.30294037],\n",
       "        [75.61487154, 30.41025082, 86.30294037],\n",
       "        ...,\n",
       "        [71.5464972 , 25.33554583, 83.20294189],\n",
       "        [74.77588451, 27.54182973, 85.50987895],\n",
       "        [69.34274537, 27.23734572, 83.24505805]],\n",
       "\n",
       "       [[82.19056525, 35.80445675, 86.30294037],\n",
       "        [81.93089517, 40.35317358, 86.30294037],\n",
       "        [75.61487154, 30.41025082, 86.30294037],\n",
       "        ...,\n",
       "        [71.5464972 , 25.33554583, 83.20294189],\n",
       "        [74.77588451, 27.54182973, 85.50987895],\n",
       "        [69.34274537, 27.23734572, 83.24505805]],\n",
       "\n",
       "       [[82.19056525, 35.80445675, 86.30294037],\n",
       "        [81.93089517, 40.35317358, 86.30294037],\n",
       "        [75.61487154, 30.41025082, 86.30294037],\n",
       "        ...,\n",
       "        [71.5464972 , 25.33554583, 83.20294189],\n",
       "        [74.77588451, 27.54182973, 85.50987895],\n",
       "        [69.34274537, 27.23734572, 83.24505805]]])"
      ]
     },
     "execution_count": 3,
     "metadata": {},
     "output_type": "execute_result"
    }
   ],
   "source": [
    "data = np.load('sequence_0.npy')\n",
    "data"
   ]
  },
  {
   "cell_type": "code",
   "execution_count": 4,
   "id": "c4440f9d-b856-45c0-b653-4244d261ee91",
   "metadata": {},
   "outputs": [
    {
     "data": {
      "text/plain": [
       "100"
      ]
     },
     "execution_count": 4,
     "metadata": {},
     "output_type": "execute_result"
    }
   ],
   "source": [
    "len(data)"
   ]
  },
  {
   "cell_type": "code",
   "execution_count": 3,
   "id": "4884a67a-6281-43ca-8183-bce2390ae019",
   "metadata": {},
   "outputs": [
    {
     "data": {
      "text/plain": [
       "(10, 1024, 3)"
      ]
     },
     "execution_count": 3,
     "metadata": {},
     "output_type": "execute_result"
    }
   ],
   "source": [
    "data.shape"
   ]
  },
  {
   "cell_type": "code",
   "execution_count": 4,
   "id": "d4ecb108-141a-4536-970a-d44b4efd880c",
   "metadata": {},
   "outputs": [],
   "source": [
    "data = data[:8]"
   ]
  },
  {
   "cell_type": "code",
   "execution_count": 4,
   "id": "ca7cf07c-4d3a-41d0-b118-5e7a9ad03141",
   "metadata": {},
   "outputs": [],
   "source": [
    "# Different position sampling\n",
    "\n",
    "# num_frames = data.shape[0]  \n",
    "# original_points = data.shape[1]\n",
    "# new_points = 1024  \n",
    "\n",
    "# sampled_data = np.empty((num_frames, new_points, data.shape[2]))\n",
    "\n",
    "# np.random.seed(42)\n",
    "\n",
    "# for i in range(num_frames):\n",
    "#     indices = np.random.choice(original_points, new_points, replace=False)\n",
    "#     sampled_data[i] = data[i, indices]\n",
    "\n",
    "# sampled_data"
   ]
  },
  {
   "cell_type": "code",
   "execution_count": 5,
   "id": "1dd37e93-b3f8-4146-9d8b-0f9ca16f5ce3",
   "metadata": {},
   "outputs": [
    {
     "data": {
      "text/plain": [
       "array([[[ 69.11397141, 116.18167024,  86.30294037],\n",
       "        [ 93.69778656,  30.84303255,  85.62856864],\n",
       "        [123.78931858,   1.65724181,  80.30294037],\n",
       "        ...,\n",
       "        [ 66.51923816,  98.84800209,  85.68502459],\n",
       "        [ 64.99129727,  68.3573395 ,  80.30294037],\n",
       "        [ 61.65272353,  59.18701358,  83.36376183]],\n",
       "\n",
       "       [[ 69.11397141, 116.13176654,  86.37314937],\n",
       "        [ 93.70202941,  30.84058294,  85.64232342],\n",
       "        [123.75712845,   1.6758268 ,  80.37754588],\n",
       "        ...,\n",
       "        [ 66.51923816,  98.83341262,  85.73437206],\n",
       "        [ 64.99129727,  68.3630093 ,  80.31505544],\n",
       "        [ 61.65272353,  59.18701358,  83.36376183]],\n",
       "\n",
       "       [[ 69.11397141, 116.08186284,  86.44335838],\n",
       "        [ 93.70627225,  30.83813333,  85.6560782 ],\n",
       "        [123.72493831,   1.69441178,  80.4521514 ],\n",
       "        ...,\n",
       "        [ 66.51923816,  98.81882315,  85.78371953],\n",
       "        [ 64.99129727,  68.36867909,  80.3271705 ],\n",
       "        [ 61.65272353,  59.18701358,  83.36376183]],\n",
       "\n",
       "       ...,\n",
       "\n",
       "       [[ 69.11397141,  66.42767926, 156.30131853],\n",
       "        [ 97.92790132,  28.40077465,  99.3420861 ],\n",
       "        [ 91.69575315,  20.18647046, 154.68463946],\n",
       "        ...,\n",
       "        [ 66.51923816,  84.30229974, 134.88445625],\n",
       "        [ 64.99129727,  74.01012033,  92.38166174],\n",
       "        [ 61.65272353,  59.18701358,  83.36376183]],\n",
       "\n",
       "       [[ 69.11397141,  66.37777556, 156.37152754],\n",
       "        [ 97.93214416,  28.39832505,  99.35584088],\n",
       "        [ 91.66356301,  20.20505544, 154.75924497],\n",
       "        ...,\n",
       "        [ 66.51923816,  84.28771027, 134.93380373],\n",
       "        [ 64.99129727,  74.01579012,  92.3937768 ],\n",
       "        [ 61.65272353,  59.18701358,  83.36376183]],\n",
       "\n",
       "       [[ 69.11397141,  66.32787185, 156.44173654],\n",
       "        [ 97.93638701,  28.39587544,  99.36959567],\n",
       "        [ 91.63137288,  20.22364042, 154.83385049],\n",
       "        ...,\n",
       "        [ 66.51923816,  84.2731208 , 134.9831512 ],\n",
       "        [ 64.99129727,  74.02145991,  92.40589187],\n",
       "        [ 61.65272353,  59.18701358,  83.36376183]]])"
      ]
     },
     "execution_count": 5,
     "metadata": {},
     "output_type": "execute_result"
    }
   ],
   "source": [
    "# Sampling same position\n",
    "\n",
    "num_frames = data.shape[0]\n",
    "original_points = data.shape[1]\n",
    "new_points = 1024\n",
    "\n",
    "# Initialize an empty array for the sampled data\n",
    "sampled_data = np.empty((num_frames, new_points, data.shape[2]))\n",
    "\n",
    "# Set a random seed for reproducibility\n",
    "np.random.seed(42)\n",
    "\n",
    "# Generate random indices from the first frame\n",
    "indices = np.random.choice(original_points, new_points, replace=False)\n",
    "\n",
    "# Apply the same indices to sample points from each frame\n",
    "for i in range(num_frames):\n",
    "    sampled_data[i] = data[i, indices]\n",
    "\n",
    "# Output the sampled data\n",
    "sampled_data"
   ]
  },
  {
   "cell_type": "code",
   "execution_count": 6,
   "id": "b33f4a75-6f5f-4f28-bf1c-f53ca073d257",
   "metadata": {},
   "outputs": [],
   "source": [
    "data_tensor = torch.from_numpy(data)\n",
    "torch.save(data_tensor,'./sequence_0.pt')"
   ]
  },
  {
   "cell_type": "code",
   "execution_count": 6,
   "id": "f5739b51-b83c-4661-8f2d-8e71d5b05f3a",
   "metadata": {},
   "outputs": [],
   "source": [
    "# np.save('./dataset/sequence_v01_same_position.npy', sampled_data)"
   ]
  },
  {
   "cell_type": "code",
   "execution_count": 7,
   "id": "d5fafdba-9f49-4d92-8ace-51b57e3ea6b0",
   "metadata": {},
   "outputs": [],
   "source": [
    "# data_tensor = torch.from_numpy(sampled_data).float()\n",
    "# data_cuda = data_tensor.to('cuda')\n",
    "# torch.save(data_cuda,'./dataset/sequence_v01_same_position.pt')"
   ]
  },
  {
   "cell_type": "code",
   "execution_count": 15,
   "id": "a6529212-c334-446b-a7ea-e0479ab20550",
   "metadata": {},
   "outputs": [],
   "source": [
    "# tensor_data = torch.tensor(sampled_data)\n",
    "# torch.save(tensor_data, 'sequence_v01_same_position.pt')"
   ]
  },
  {
   "cell_type": "code",
   "execution_count": 3,
   "id": "dd0255b6-9908-4f68-be6f-5fd2d59f3c7f",
   "metadata": {},
   "outputs": [],
   "source": [
    "data = torch.load('longdress.pt')\n",
    "frames = data[0:16]\n",
    "torch.save(frames, 'longdress_16_frames.pt')"
   ]
  },
  {
   "cell_type": "code",
   "execution_count": 12,
   "id": "aadd64e6-cf59-41fa-87b1-0ef951b67068",
   "metadata": {},
   "outputs": [
    {
     "name": "stderr",
     "output_type": "stream",
     "text": [
      "100%|██████████████████████████████████████████████████████████████████████████████████| 6/6 [00:00<00:00, 42083.32it/s]"
     ]
    },
    {
     "name": "stdout",
     "output_type": "stream",
     "text": [
      "0 1\n",
      "1 2\n",
      "2 3\n",
      "3 4\n",
      "4 5\n",
      "5 6\n"
     ]
    },
    {
     "name": "stderr",
     "output_type": "stream",
     "text": [
      "\n"
     ]
    }
   ],
   "source": [
    "x = [1, 2, 3, 4, 5, 6]\n",
    "\n",
    "for i, frame in tqdm(enumerate(x), total=len(x)):\n",
    "    print(i, frame) "
   ]
  },
  {
   "cell_type": "code",
   "execution_count": 5,
   "id": "b444bcda-f1a3-471c-922e-dcb640035fcd",
   "metadata": {},
   "outputs": [
    {
     "ename": "NameError",
     "evalue": "name 'sampled_data' is not defined",
     "output_type": "error",
     "traceback": [
      "\u001b[0;31m---------------------------------------------------------------------------\u001b[0m",
      "\u001b[0;31mNameError\u001b[0m                                 Traceback (most recent call last)",
      "Cell \u001b[0;32mIn[5], line 1\u001b[0m\n\u001b[0;32m----> 1\u001b[0m sampled_data \u001b[38;5;241m=\u001b[39m \u001b[43msampled_data\u001b[49m\u001b[38;5;241m.\u001b[39mreshape(\u001b[38;5;241m-\u001b[39m\u001b[38;5;241m1\u001b[39m,\u001b[38;5;241m3\u001b[39m)\n\u001b[1;32m      2\u001b[0m sampled_data\n",
      "\u001b[0;31mNameError\u001b[0m: name 'sampled_data' is not defined"
     ]
    }
   ],
   "source": [
    "sampled_data = sampled_data.reshape(-1,3)\n",
    "sampled_data"
   ]
  },
  {
   "cell_type": "code",
   "execution_count": 8,
   "id": "a8527dd7-9578-401c-ba13-1c8d451c0fa4",
   "metadata": {},
   "outputs": [],
   "source": [
    "def plot_obj_3d_save(points, index, x_min, x_max, y_min, y_max, z_min, z_max):\n",
    "    x = points[:, 0]\n",
    "    y = points[:, 1]\n",
    "    z = points[:, 2]\n",
    "\n",
    "    fig = plt.figure(figsize=(7.04, 9.11)) \n",
    "    ax = fig.add_subplot(111, projection='3d')\n",
    "    scatter = ax.scatter(x, y, z, s=5, alpha=0.4)  \n",
    "\n",
    "    ax.set_title(f'3D Scatter Plot Frame {index + 1}')\n",
    "    ax.set_xlabel('X Coordinate', labelpad = 10)\n",
    "    ax.set_ylabel('Y Coordinate', labelpad = 10)\n",
    "    ax.set_zlabel('Z Coordinate', labelpad = 50)\n",
    "\n",
    "    ax.set_xlim([x_min, x_max])\n",
    "    ax.set_ylim([y_min, y_max])\n",
    "    ax.set_zlim([z_min, z_max])\n",
    "\n",
    "    ax.view_init(elev=30, azim=-40)\n",
    "\n",
    "    plt.savefig(f'test_frames/frame_{index:03d}.png')\n",
    "    plt.close()\n",
    "    \n",
    "x_min = 0\n",
    "x_max = 150\n",
    "y_min = 0\n",
    "y_max = 130\n",
    "z_min = 70\n",
    "z_max = 180"
   ]
  },
  {
   "cell_type": "code",
   "execution_count": 9,
   "id": "c446f40a-2c22-43d5-bcd3-ce1f5451084a",
   "metadata": {},
   "outputs": [],
   "source": [
    "n_frames = int(sampled_data.shape[0]/1024)\n",
    "\n",
    "for i in range(n_frames):\n",
    "    segment = sampled_data[i * 1024:(i + 1) * 1024]\n",
    "    plot_obj_3d_save(segment, i, x_min, x_max, y_min, y_max, z_min, z_max)"
   ]
  },
  {
   "cell_type": "code",
   "execution_count": 10,
   "id": "c6689df1-c3d3-4b5f-9f89-aceecdd16687",
   "metadata": {},
   "outputs": [
    {
     "name": "stderr",
     "output_type": "stream",
     "text": [
      "IMAGEIO FFMPEG_WRITER WARNING: input image is not divisible by macro_block_size=16, resizing from (704, 911) to (704, 912) to ensure video compatibility with most codecs and players. To prevent resizing, make your input image divisible by the macro_block_size or set the macro_block_size to 1 (risking incompatibility).\n"
     ]
    }
   ],
   "source": [
    "images = []\n",
    "filenames = [f'test_frames/frame_{i:03d}.png' for i in range(n_frames)]\n",
    "for filename in filenames:\n",
    "    images.append(imageio.imread(filename))\n",
    "\n",
    "imageio.mimsave('test_frames/movie.mp4', images, fps=30, format='FFMPEG')"
   ]
  },
  {
   "cell_type": "code",
   "execution_count": null,
   "id": "dc772754-d970-4d69-b169-181187ba45d5",
   "metadata": {},
   "outputs": [],
   "source": []
  }
 ],
 "metadata": {
  "kernelspec": {
   "display_name": "Python 3 (ipykernel)",
   "language": "python",
   "name": "python3"
  },
  "language_info": {
   "codemirror_mode": {
    "name": "ipython",
    "version": 3
   },
   "file_extension": ".py",
   "mimetype": "text/x-python",
   "name": "python",
   "nbconvert_exporter": "python",
   "pygments_lexer": "ipython3",
   "version": "3.9.21"
  }
 },
 "nbformat": 4,
 "nbformat_minor": 5
}
